{
 "cells": [
  {
   "cell_type": "markdown",
   "id": "ea56b7d8",
   "metadata": {
    "heading_collapsed": true
   },
   "source": [
    "# Business Questions"
   ]
  },
  {
   "cell_type": "markdown",
   "id": "edf17867",
   "metadata": {
    "hidden": true
   },
   "source": [
    "1. How many houses are available for purchase?\n",
    "\n",
    "2. How many attributes do houses have? \n",
    "\n",
    "3. What are de attributes?\n",
    "\n",
    "4. What is the most expensive house in the portifolio?\n",
    "\n",
    "5. Which house has the most rooms?\n",
    "\n",
    "6. What is the total sum of bedrooms in the dataset?\n",
    "\n",
    "7. How many houses have two bathrooms?\n",
    "\n",
    "8. What is the average price of all houses in the dataset?\n",
    "\n",
    "9. What is the average price of houses with two bathroom\n",
    "\n",
    "10. What is the minimum price among 3-bedroom homes?\n",
    "\n",
    "11. How many homes have more than 300 square meters in the living room?\n",
    "\n",
    "12. How many houses have more than 2 floors?\n",
    "\n",
    "13. How many houses have a view of the sea?\n",
    "\n",
    "14. Of the houses with a view to the sea, how many have 3 bedrooms?\n",
    "\n",
    "15. Of the houses with more than 300 square meters of living room, how many have 2 bathrooms?"
   ]
  },
  {
   "cell_type": "markdown",
   "id": "7f7df2a5",
   "metadata": {
    "heading_collapsed": true
   },
   "source": [
    "# IMPORTS "
   ]
  },
  {
   "cell_type": "code",
   "execution_count": 2,
   "id": "f22b3989",
   "metadata": {
    "ExecuteTime": {
     "end_time": "2021-09-30T18:46:13.937002Z",
     "start_time": "2021-09-30T18:46:13.934828Z"
    },
    "hidden": true
   },
   "outputs": [],
   "source": [
    "import numpy as np\n",
    "import pandas as pd"
   ]
  },
  {
   "cell_type": "markdown",
   "id": "a6fe0456",
   "metadata": {
    "heading_collapsed": true
   },
   "source": [
    "# LOADING DATA"
   ]
  },
  {
   "cell_type": "code",
   "execution_count": 3,
   "id": "f44ff8ca",
   "metadata": {
    "ExecuteTime": {
     "end_time": "2021-09-30T18:50:16.699508Z",
     "start_time": "2021-09-30T18:50:16.631937Z"
    },
    "hidden": true
   },
   "outputs": [],
   "source": [
    "data = pd.read_csv('datasets/kc_house_data.csv')"
   ]
  },
  {
   "cell_type": "markdown",
   "id": "79d4398b",
   "metadata": {
    "heading_collapsed": true
   },
   "source": [
    "# ANSWERING THE QUESTIONS"
   ]
  },
  {
   "cell_type": "markdown",
   "id": "8e1709fd",
   "metadata": {
    "heading_collapsed": true,
    "hidden": true
   },
   "source": [
    "##  How many houses are available for purchase?\n",
    "R: 21436 houses available."
   ]
  },
  {
   "cell_type": "code",
   "execution_count": 6,
   "id": "d30ada11",
   "metadata": {
    "ExecuteTime": {
     "end_time": "2021-09-30T19:00:32.191934Z",
     "start_time": "2021-09-30T19:00:32.188319Z"
    },
    "hidden": true
   },
   "outputs": [
    {
     "data": {
      "text/plain": [
       "21436"
      ]
     },
     "execution_count": 6,
     "metadata": {},
     "output_type": "execute_result"
    }
   ],
   "source": [
    "len(data['id'].drop_duplicates())"
   ]
  },
  {
   "cell_type": "markdown",
   "id": "a0ca983e",
   "metadata": {
    "heading_collapsed": true,
    "hidden": true
   },
   "source": [
    "## How many attributes do houses have? \n",
    "R: 21 attributes available for each house."
   ]
  },
  {
   "cell_type": "code",
   "execution_count": 8,
   "id": "f0f4305a",
   "metadata": {
    "ExecuteTime": {
     "end_time": "2021-09-30T19:01:09.509810Z",
     "start_time": "2021-09-30T19:01:09.503671Z"
    },
    "hidden": true
   },
   "outputs": [
    {
     "data": {
      "text/plain": [
       "(21613, 21)"
      ]
     },
     "execution_count": 8,
     "metadata": {},
     "output_type": "execute_result"
    }
   ],
   "source": [
    "data.shape"
   ]
  },
  {
   "cell_type": "markdown",
   "id": "4aa7544f",
   "metadata": {
    "heading_collapsed": true,
    "hidden": true
   },
   "source": [
    "## What are de attributes?\n",
    "R: The attributes available are: id, date, price, bedrooms, bathrooms, sqft_living, sqft_lot, floors, waterfront, view, condition, grade, sqft_above, sqft_basement, yr_built, yr_renovated, zipcode, lat, long, sqft_living15, sqft_lot15"
   ]
  },
  {
   "cell_type": "code",
   "execution_count": 9,
   "id": "ed8a5e1b",
   "metadata": {
    "ExecuteTime": {
     "end_time": "2021-09-30T19:01:38.249838Z",
     "start_time": "2021-09-30T19:01:38.243597Z"
    },
    "hidden": true
   },
   "outputs": [
    {
     "data": {
      "text/plain": [
       "Index(['id', 'date', 'price', 'bedrooms', 'bathrooms', 'sqft_living',\n",
       "       'sqft_lot', 'floors', 'waterfront', 'view', 'condition', 'grade',\n",
       "       'sqft_above', 'sqft_basement', 'yr_built', 'yr_renovated', 'zipcode',\n",
       "       'lat', 'long', 'sqft_living15', 'sqft_lot15'],\n",
       "      dtype='object')"
      ]
     },
     "execution_count": 9,
     "metadata": {},
     "output_type": "execute_result"
    }
   ],
   "source": [
    "data.columns"
   ]
  },
  {
   "cell_type": "markdown",
   "id": "f95836bd",
   "metadata": {
    "heading_collapsed": true,
    "hidden": true
   },
   "source": [
    "## What is the most expensive house in the portifolio?\n",
    "R: The most expensive house in the portifolio is 6762700020 with the price of $7700000.0"
   ]
  },
  {
   "cell_type": "code",
   "execution_count": 11,
   "id": "f202c036",
   "metadata": {
    "ExecuteTime": {
     "end_time": "2021-09-30T19:04:16.496476Z",
     "start_time": "2021-09-30T19:04:16.485011Z"
    },
    "hidden": true
   },
   "outputs": [
    {
     "data": {
      "text/html": [
       "<div>\n",
       "<style scoped>\n",
       "    .dataframe tbody tr th:only-of-type {\n",
       "        vertical-align: middle;\n",
       "    }\n",
       "\n",
       "    .dataframe tbody tr th {\n",
       "        vertical-align: top;\n",
       "    }\n",
       "\n",
       "    .dataframe thead th {\n",
       "        text-align: right;\n",
       "    }\n",
       "</style>\n",
       "<table border=\"1\" class=\"dataframe\">\n",
       "  <thead>\n",
       "    <tr style=\"text-align: right;\">\n",
       "      <th></th>\n",
       "      <th>id</th>\n",
       "      <th>price</th>\n",
       "    </tr>\n",
       "  </thead>\n",
       "  <tbody>\n",
       "    <tr>\n",
       "      <th>7252</th>\n",
       "      <td>6762700020</td>\n",
       "      <td>7700000.0</td>\n",
       "    </tr>\n",
       "    <tr>\n",
       "      <th>3914</th>\n",
       "      <td>9808700762</td>\n",
       "      <td>7062500.0</td>\n",
       "    </tr>\n",
       "    <tr>\n",
       "      <th>9254</th>\n",
       "      <td>9208900037</td>\n",
       "      <td>6885000.0</td>\n",
       "    </tr>\n",
       "    <tr>\n",
       "      <th>4411</th>\n",
       "      <td>2470100110</td>\n",
       "      <td>5570000.0</td>\n",
       "    </tr>\n",
       "    <tr>\n",
       "      <th>1448</th>\n",
       "      <td>8907500070</td>\n",
       "      <td>5350000.0</td>\n",
       "    </tr>\n",
       "  </tbody>\n",
       "</table>\n",
       "</div>"
      ],
      "text/plain": [
       "              id      price\n",
       "7252  6762700020  7700000.0\n",
       "3914  9808700762  7062500.0\n",
       "9254  9208900037  6885000.0\n",
       "4411  2470100110  5570000.0\n",
       "1448  8907500070  5350000.0"
      ]
     },
     "execution_count": 11,
     "metadata": {},
     "output_type": "execute_result"
    }
   ],
   "source": [
    "data[['id', 'price']].sort_values('price', ascending=False).head()"
   ]
  },
  {
   "cell_type": "markdown",
   "id": "0d8d1d2d",
   "metadata": {
    "heading_collapsed": true,
    "hidden": true
   },
   "source": [
    "## Which house has the most rooms?\n",
    "R: The house with the highest number of rooms is 2402100895 which has 33 rooms."
   ]
  },
  {
   "cell_type": "code",
   "execution_count": 13,
   "id": "91d37c62",
   "metadata": {
    "ExecuteTime": {
     "end_time": "2021-09-30T19:20:26.110443Z",
     "start_time": "2021-09-30T19:20:26.089589Z"
    },
    "hidden": true
   },
   "outputs": [
    {
     "data": {
      "text/html": [
       "<div>\n",
       "<style scoped>\n",
       "    .dataframe tbody tr th:only-of-type {\n",
       "        vertical-align: middle;\n",
       "    }\n",
       "\n",
       "    .dataframe tbody tr th {\n",
       "        vertical-align: top;\n",
       "    }\n",
       "\n",
       "    .dataframe thead th {\n",
       "        text-align: right;\n",
       "    }\n",
       "</style>\n",
       "<table border=\"1\" class=\"dataframe\">\n",
       "  <thead>\n",
       "    <tr style=\"text-align: right;\">\n",
       "      <th></th>\n",
       "      <th>id</th>\n",
       "      <th>bedrooms</th>\n",
       "    </tr>\n",
       "  </thead>\n",
       "  <tbody>\n",
       "    <tr>\n",
       "      <th>15870</th>\n",
       "      <td>2402100895</td>\n",
       "      <td>33</td>\n",
       "    </tr>\n",
       "    <tr>\n",
       "      <th>8757</th>\n",
       "      <td>1773100755</td>\n",
       "      <td>11</td>\n",
       "    </tr>\n",
       "    <tr>\n",
       "      <th>15161</th>\n",
       "      <td>5566100170</td>\n",
       "      <td>10</td>\n",
       "    </tr>\n",
       "    <tr>\n",
       "      <th>13314</th>\n",
       "      <td>627300145</td>\n",
       "      <td>10</td>\n",
       "    </tr>\n",
       "    <tr>\n",
       "      <th>19254</th>\n",
       "      <td>8812401450</td>\n",
       "      <td>10</td>\n",
       "    </tr>\n",
       "    <tr>\n",
       "      <th>8546</th>\n",
       "      <td>424049043</td>\n",
       "      <td>9</td>\n",
       "    </tr>\n",
       "  </tbody>\n",
       "</table>\n",
       "</div>"
      ],
      "text/plain": [
       "               id  bedrooms\n",
       "15870  2402100895        33\n",
       "8757   1773100755        11\n",
       "15161  5566100170        10\n",
       "13314   627300145        10\n",
       "19254  8812401450        10\n",
       "8546    424049043         9"
      ]
     },
     "execution_count": 13,
     "metadata": {},
     "output_type": "execute_result"
    }
   ],
   "source": [
    "data[['id', 'bedrooms']].sort_values('bedrooms', ascending=False).head(6)"
   ]
  },
  {
   "cell_type": "markdown",
   "id": "1068f57b",
   "metadata": {
    "heading_collapsed": true,
    "hidden": true
   },
   "source": [
    "## What is the total sum of bedrooms in the dataset?\n",
    "R: The sum of bedroomns in the dataset is 72854"
   ]
  },
  {
   "cell_type": "code",
   "execution_count": 14,
   "id": "7bd79f93",
   "metadata": {
    "ExecuteTime": {
     "end_time": "2021-09-30T20:23:48.119365Z",
     "start_time": "2021-09-30T20:23:48.115289Z"
    },
    "hidden": true
   },
   "outputs": [
    {
     "data": {
      "text/plain": [
       "72854"
      ]
     },
     "execution_count": 14,
     "metadata": {},
     "output_type": "execute_result"
    }
   ],
   "source": [
    "data['bedrooms'].sum()"
   ]
  },
  {
   "cell_type": "markdown",
   "id": "e675ab5e",
   "metadata": {
    "heading_collapsed": true,
    "hidden": true
   },
   "source": [
    "## How many houses have two bathrooms?\n",
    "R: 1930 houses have two bathrooms"
   ]
  },
  {
   "cell_type": "code",
   "execution_count": 22,
   "id": "de39381a",
   "metadata": {
    "ExecuteTime": {
     "end_time": "2021-09-30T20:26:06.018602Z",
     "start_time": "2021-09-30T20:26:06.014976Z"
    },
    "hidden": true
   },
   "outputs": [
    {
     "data": {
      "text/plain": [
       "(1930, 21)"
      ]
     },
     "execution_count": 22,
     "metadata": {},
     "output_type": "execute_result"
    }
   ],
   "source": [
    "data[data['bathrooms'] == 2].shape"
   ]
  },
  {
   "cell_type": "markdown",
   "id": "9a30678b",
   "metadata": {
    "heading_collapsed": true,
    "hidden": true
   },
   "source": [
    "## What is the average price of all houses in the dataset?\n",
    "R: The average price of all houses is $540088"
   ]
  },
  {
   "cell_type": "code",
   "execution_count": 24,
   "id": "71425e3f",
   "metadata": {
    "ExecuteTime": {
     "end_time": "2021-09-30T20:26:55.317234Z",
     "start_time": "2021-09-30T20:26:55.313587Z"
    },
    "hidden": true
   },
   "outputs": [
    {
     "data": {
      "text/plain": [
       "540088.14"
      ]
     },
     "execution_count": 24,
     "metadata": {},
     "output_type": "execute_result"
    }
   ],
   "source": [
    "round(data['price'].mean(), 2)"
   ]
  },
  {
   "cell_type": "markdown",
   "id": "893be389",
   "metadata": {
    "heading_collapsed": true,
    "hidden": true
   },
   "source": [
    "## What is the average price of houses with two bathroom\n",
    "R: The average price of houses with two bathrooms is $457889.72"
   ]
  },
  {
   "cell_type": "code",
   "execution_count": 27,
   "id": "75c2f8d5",
   "metadata": {
    "ExecuteTime": {
     "end_time": "2021-09-30T20:30:00.849438Z",
     "start_time": "2021-09-30T20:30:00.844487Z"
    },
    "hidden": true
   },
   "outputs": [
    {
     "data": {
      "text/plain": [
       "457889.72"
      ]
     },
     "execution_count": 27,
     "metadata": {},
     "output_type": "execute_result"
    }
   ],
   "source": [
    "round(data.loc[data['bathrooms'] == 2, 'price'].mean(), 2)"
   ]
  },
  {
   "cell_type": "markdown",
   "id": "5ed02ad3",
   "metadata": {
    "heading_collapsed": true,
    "hidden": true
   },
   "source": [
    "## What is the minimum price among 3-bedroom homes?\n",
    "R: The minimum price of houses with three bedrooms is $82000"
   ]
  },
  {
   "cell_type": "code",
   "execution_count": 29,
   "id": "6bccd2d1",
   "metadata": {
    "ExecuteTime": {
     "end_time": "2021-09-30T20:31:22.335128Z",
     "start_time": "2021-09-30T20:31:22.329658Z"
    },
    "hidden": true
   },
   "outputs": [
    {
     "data": {
      "text/plain": [
       "82000.0"
      ]
     },
     "execution_count": 29,
     "metadata": {},
     "output_type": "execute_result"
    }
   ],
   "source": [
    "data.loc[data['bedrooms'] == 3, 'price'].min()"
   ]
  },
  {
   "cell_type": "markdown",
   "id": "0a23381e",
   "metadata": {
    "heading_collapsed": true,
    "hidden": true
   },
   "source": [
    "## How many homes have more than 300 square meters in the living room?\n",
    "R: 21612 houses have more than 300 square meters"
   ]
  },
  {
   "cell_type": "code",
   "execution_count": 31,
   "id": "0c4a64ee",
   "metadata": {
    "ExecuteTime": {
     "end_time": "2021-09-30T20:32:50.788394Z",
     "start_time": "2021-09-30T20:32:50.783721Z"
    },
    "hidden": true
   },
   "outputs": [
    {
     "data": {
      "text/plain": [
       "21612"
      ]
     },
     "execution_count": 31,
     "metadata": {},
     "output_type": "execute_result"
    }
   ],
   "source": [
    "len(data.loc[data['sqft_living'] > 300, 'id'])"
   ]
  },
  {
   "cell_type": "markdown",
   "id": "f2e36d27",
   "metadata": {
    "heading_collapsed": true,
    "hidden": true
   },
   "source": [
    "## How many houses have more than 2 floors?\n",
    "R: 782 houses have more than 2 floors"
   ]
  },
  {
   "cell_type": "code",
   "execution_count": 32,
   "id": "1930b2b9",
   "metadata": {
    "ExecuteTime": {
     "end_time": "2021-09-30T20:33:59.668725Z",
     "start_time": "2021-09-30T20:33:59.655418Z"
    },
    "hidden": true
   },
   "outputs": [
    {
     "data": {
      "text/plain": [
       "(782, 21)"
      ]
     },
     "execution_count": 32,
     "metadata": {},
     "output_type": "execute_result"
    }
   ],
   "source": [
    "data.loc[data['floors'] > 2, :].shape"
   ]
  },
  {
   "cell_type": "markdown",
   "id": "28aa08ec",
   "metadata": {
    "heading_collapsed": true,
    "hidden": true
   },
   "source": [
    "## How many houses have a view of the sea?\n",
    "R: 163 houses have view of the sea"
   ]
  },
  {
   "cell_type": "code",
   "execution_count": 34,
   "id": "4224803c",
   "metadata": {
    "ExecuteTime": {
     "end_time": "2021-09-30T20:34:48.903746Z",
     "start_time": "2021-09-30T20:34:48.895981Z"
    },
    "hidden": true
   },
   "outputs": [
    {
     "data": {
      "text/plain": [
       "(163, 21)"
      ]
     },
     "execution_count": 34,
     "metadata": {},
     "output_type": "execute_result"
    }
   ],
   "source": [
    "data.loc[data['waterfront'] == 1, :].shape"
   ]
  },
  {
   "cell_type": "markdown",
   "id": "5606570e",
   "metadata": {
    "heading_collapsed": true,
    "hidden": true
   },
   "source": [
    "## Of the houses with a view to the sea, how many have 3 bedrooms?\n",
    "R: 64 houses have view of the sea and have 3 bedrooms"
   ]
  },
  {
   "cell_type": "code",
   "execution_count": 35,
   "id": "db7e82e0",
   "metadata": {
    "ExecuteTime": {
     "end_time": "2021-09-30T20:36:01.398129Z",
     "start_time": "2021-09-30T20:36:01.393066Z"
    },
    "hidden": true
   },
   "outputs": [
    {
     "data": {
      "text/plain": [
       "(64, 21)"
      ]
     },
     "execution_count": 35,
     "metadata": {},
     "output_type": "execute_result"
    }
   ],
   "source": [
    "data.loc[(data['waterfront'] == 1) & (data['bedrooms'] == 3), :].shape"
   ]
  },
  {
   "cell_type": "markdown",
   "id": "492e9370",
   "metadata": {
    "heading_collapsed": true,
    "hidden": true
   },
   "source": [
    "##  Of the houses with more than 300 square meters of living room, how many have 2 bathrooms?\n",
    "R: 1930 houses have more than 300 square meters of living room and 2 bathrooms"
   ]
  },
  {
   "cell_type": "code",
   "execution_count": 37,
   "id": "5c61fbd7",
   "metadata": {
    "ExecuteTime": {
     "end_time": "2021-09-30T20:37:10.437566Z",
     "start_time": "2021-09-30T20:37:10.423020Z"
    },
    "hidden": true
   },
   "outputs": [
    {
     "data": {
      "text/plain": [
       "(1930, 21)"
      ]
     },
     "execution_count": 37,
     "metadata": {},
     "output_type": "execute_result"
    }
   ],
   "source": [
    "data.loc[(data['sqft_living'] > 300) & (data['bathrooms'] == 2), :].shape"
   ]
  }
 ],
 "metadata": {
  "kernelspec": {
   "display_name": "Python 3 (ipykernel)",
   "language": "python",
   "name": "python3"
  },
  "language_info": {
   "codemirror_mode": {
    "name": "ipython",
    "version": 3
   },
   "file_extension": ".py",
   "mimetype": "text/x-python",
   "name": "python",
   "nbconvert_exporter": "python",
   "pygments_lexer": "ipython3",
   "version": "3.8.10"
  },
  "toc": {
   "base_numbering": 1,
   "nav_menu": {},
   "number_sections": true,
   "sideBar": true,
   "skip_h1_title": false,
   "title_cell": "Table of Contents",
   "title_sidebar": "Contents",
   "toc_cell": false,
   "toc_position": {},
   "toc_section_display": true,
   "toc_window_display": false
  }
 },
 "nbformat": 4,
 "nbformat_minor": 5
}
